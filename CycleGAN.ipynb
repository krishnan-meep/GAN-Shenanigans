{
 "cells": [
  {
   "cell_type": "markdown",
   "metadata": {},
   "source": [
    "### CycleGAN\n",
    "\n",
    "UNet-Generators with Resblocks in the middle, Basic Discriminators but the PatchGAN option is available, Least Squares loss + Cycle Consistency Loss + Identity Loss\n",
    "CycleGan maps images from two domains to one another. So if you have photos and paintings, it turns photos into paintings and vice versa."
   ]
  },
  {
   "cell_type": "code",
   "execution_count": null,
   "metadata": {
    "colab": {
     "base_uri": "https://localhost:8080/",
     "height": 35
    },
    "colab_type": "code",
    "id": "B2oHM2MFcfPZ",
    "outputId": "856e92a2-42c5-4350-9a2d-0b6141eb7f22"
   },
   "outputs": [],
   "source": [
    "import torch\n",
    "import torchvision\n",
    "import torch.nn as nn\n",
    "import torch.nn.functional as F\n",
    "import torchvision.transforms as transforms\n",
    "import torch.optim as optim\n",
    "import numpy as np\n",
    "import os\n",
    "import cv2\n",
    "import matplotlib.pyplot as plt\n",
    "from models.cycgan import UNet_Generator, Basic_Discriminator\n",
    "from utils import load_data\n",
    "\n",
    "#from google.colab import drive\n",
    "#drive.mount(\"/content/drive\")"
   ]
  },
  {
   "cell_type": "markdown",
   "metadata": {},
   "source": [
    "load_data() can be found in utils.py. Specify the size you want to resize it to with the image_size parameter and the number of images you want read using block_size. By default it reads all of it."
   ]
  },
  {
   "cell_type": "code",
   "execution_count": null,
   "metadata": {
    "colab": {
     "base_uri": "https://localhost:8080/",
     "height": 1000
    },
    "colab_type": "code",
    "id": "7BogU70Dcg4Q",
    "outputId": "2b7bf0d2-4f2f-4217-e125-efcb6d53e0e7"
   },
   "outputs": [],
   "source": [
    "print(\"Fruits (X)....\")\n",
    "x_train = load_data(path=\"/content/drive/My Drive/Datasets/Fruits\", image_size = (128,128), block_size = 1500)\n",
    "print(\"Ukiyo_e (Y)....\")\n",
    "y_train = load_data(path=\"/content/drive/My Drive/Datasets/Ukiyo_e\", image_size = (128,128), block_size = 1500)\n",
    "x_train = (x_train/255)*2 - 1\n",
    "y_train = (y_train/255)*2 - 1\n",
    "print(x_train.max(), x_train.min(), y_train.max(), y_train.min())\n",
    "print(x_train.shape, y_train.shape)"
   ]
  },
  {
   "cell_type": "code",
   "execution_count": null,
   "metadata": {
    "colab": {},
    "colab_type": "code",
    "id": "THecADzqchLg"
   },
   "outputs": [],
   "source": [
    "transform = transforms.Compose(\n",
    "    [transforms.ToTensor()])\n",
    "\n",
    "train_loader_x = torch.utils.data.DataLoader(x_train, batch_size=64, num_workers=2, shuffle = True)\n",
    "train_loader_y = torch.utils.data.DataLoader(y_train, batch_size=64, num_workers=2, shuffle = True)"
   ]
  },
  {
   "cell_type": "code",
   "execution_count": null,
   "metadata": {
    "colab": {
     "base_uri": "https://localhost:8080/",
     "height": 304
    },
    "colab_type": "code",
    "id": "GhIa54pwci8T",
    "outputId": "d914524f-5eeb-4876-eaf9-1c60a8d0fe2e"
   },
   "outputs": [],
   "source": [
    "data_loader = iter(train_loader_x)\n",
    "data = next(data_loader)\n",
    "\n",
    "print(\"x_data\")\n",
    "print(data.shape)\n",
    "print(data.max(), data.min())\n",
    "img = np.transpose(data[0], (1, 2, 0))\n",
    "plt.imshow((img+1)/2)\n",
    "plt.show()\n",
    "\n",
    "data_loader = iter(train_loader_y)\n",
    "data = next(data_loader)\n",
    "\n",
    "print(\"y_data\")\n",
    "print(data.shape)\n",
    "print(data.max(), data.min())\n",
    "img = np.transpose(data[0], (1, 2, 0))\n",
    "plt.imshow((img+1)/2)\n",
    "plt.show()"
   ]
  },
  {
   "cell_type": "markdown",
   "metadata": {},
   "source": [
    "There's two Generator Discriminator pairs, all of them have the same learning rate here but you could try mixing it up."
   ]
  },
  {
   "cell_type": "code",
   "execution_count": null,
   "metadata": {
    "colab": {},
    "colab_type": "code",
    "id": "CUYvvZ-ack4B"
   },
   "outputs": [],
   "source": [
    "device = torch.device(\"cuda:0\" if torch.cuda.is_available() else \"cpu\")\n",
    "\n",
    "G = UNet_Generator().to(device)\n",
    "H = UNet_Generator().to(device)\n",
    "D_x = Basic_Discriminator().to(device)\n",
    "D_y = Basic_Discriminator().to(device)\n",
    "\n",
    "#Orthogonal initialization is king\n",
    "for m in G.modules():\n",
    "    if isinstance(m, (nn.Conv2d, nn.Linear, nn.ConvTranspose2d)):\n",
    "        nn.init.orthogonal_(m.weight)\n",
    "\n",
    "for m in H.modules():\n",
    "    if isinstance(m, (nn.Conv2d, nn.Linear, nn.ConvTranspose2d)):\n",
    "        nn.init.orthogonal_(m.weight)\n",
    "\n",
    "for m in D_x.modules():\n",
    "    if isinstance(m, (nn.Conv2d, nn.Linear, nn.ConvTranspose2d)):\n",
    "        nn.init.orthogonal_(m.weight)\n",
    "\n",
    "for m in D_y.modules():\n",
    "    if isinstance(m, (nn.Conv2d, nn.Linear, nn.ConvTranspose2d)):\n",
    "        nn.init.orthogonal_(m.weight)\n",
    "        \n",
    "#Optimizers\n",
    "optimizerD_x = optim.Adam(D_x.parameters(), lr = 0.0002, betas = (0.5, 0.999))\n",
    "optimizerG = optim.Adam(G.parameters(), lr = 0.0002, betas = (0.5, 0.999))\n",
    "optimizerD_y = optim.Adam(D_y.parameters(), lr = 0.0002, betas = (0.5, 0.999))\n",
    "optimizerH = optim.Adam(H.parameters(), lr = 0.0002, betas = (0.5, 0.999))"
   ]
  },
  {
   "cell_type": "code",
   "execution_count": null,
   "metadata": {
    "colab": {
     "base_uri": "https://localhost:8080/",
     "height": 1000
    },
    "colab_type": "code",
    "id": "17n-15iMcl-B",
    "outputId": "c00d67ba-a306-47db-e085-5033a1ab7d08"
   },
   "outputs": [],
   "source": [
    "epochs = 300\n",
    "_lambda = 10\n",
    "\n",
    "for epoch in range(epochs):\n",
    "    for i, (data_x, data_y) in enumerate(zip(train_loader_x, train_loader_y)):\n",
    "\n",
    "        #Dealing with the discriminators################################\n",
    "        D_x.zero_grad()\n",
    "        D_y.zero_grad()\n",
    "        \n",
    "        real_images_x = data_x.to(device)\n",
    "        real_images_y = data_y.to(device)\n",
    "        \n",
    "        b_size = real_images_x.size(0)  \n",
    "  \n",
    "        output_x = D_x(real_images_x).view(-1)\n",
    "        output_y = D_y(real_images_y).view(-1)\n",
    "        errD_real = torch.mean((output_x - 1)**2) + torch.mean((output_y - 1)**2)\n",
    "\n",
    "        fake_images_y = G(real_images_x)\n",
    "        fake_images_x = H(real_images_y)\n",
    "        output_x = D_x(fake_images_x.detach()).view(-1)\n",
    "        output_y = D_y(fake_images_y.detach()).view(-1)\n",
    "        errD_fake = torch.mean((output_x)**2) + torch.mean((output_y)**2)\n",
    "\n",
    "        errD = errD_fake + errD_real\n",
    "        errD.backward()\n",
    "        optimizerD_x.step()\n",
    "        optimizerD_y.step()\n",
    "\n",
    "        #Dealing with the generators###################################\n",
    "        G.zero_grad()\n",
    "        H.zero_grad()\n",
    "        \n",
    "        cycled_images_x = H(fake_images_y)\n",
    "        cycled_images_y = G(fake_images_x)\n",
    "        identity_x = H(real_images_x)\n",
    "        identity_y = G(real_images_y)\n",
    "        \n",
    "        output_x = D_x(fake_images_x).view(-1)\n",
    "        output_y = D_y(fake_images_y).view(-1)\n",
    "        \n",
    "        errG_adv = torch.mean((output_x - 1)**2) + torch.mean((output_y - 1)**2)\n",
    "        errG_cyc = torch.mean(torch.abs(cycled_images_x - real_images_x)) + torch.mean(torch.abs(cycled_images_y - real_images_y))\n",
    "        errG_cyc *= _lambda\n",
    "\n",
    "        errG_id = torch.mean(torch.abs(identity_x - real_images_x)) + torch.mean(torch.abs(identity_y - real_images_y))\n",
    "        errG_id *= 0.1*_lambda\n",
    "        \n",
    "        errG = errG_adv + errG_id + errG_cyc\n",
    "        errG.backward()\n",
    "\n",
    "        optimizerG.step()\n",
    "        optimizerH.step()\n",
    "        \n",
    "        if i%100 == 0:\n",
    "            print(\"Epoch %i Step %i --> Disc_Loss : %f   Gen_Loss : %f\" % (epoch, i, errD, errG))\n",
    "            \n",
    "    #if epoch%100 == 0:\n",
    "        #torch.save(G.state_dict(), path + \"cycgan_G.pth\")\n",
    "        #torch.save(H.state_dict(), path + \"cycgan_H.pth\")  \n",
    "        #torch.save(D_x.state_dict(), path + \"cycgan_D_x.pth\")\n",
    "        #torch.save(D_y.state_dict(), path + \"cycgan_G_y.pth\")  "
   ]
  },
  {
   "cell_type": "code",
   "execution_count": null,
   "metadata": {
    "colab": {
     "base_uri": "https://localhost:8080/",
     "height": 601
    },
    "colab_type": "code",
    "id": "6jkP94PCco7c",
    "outputId": "f9066e2a-a945-4e3f-b03b-89f858e7c2d1"
   },
   "outputs": [],
   "source": [
    "batch_idx = np.random.choice(len(x_train), size = 10)\n",
    "batch_idy = np.random.choice(len(y_train), size = 10)\n",
    "data_x = x_train[batch_idx]\n",
    "data_y = y_train[batch_idy]\n",
    "\n",
    "print(\"Actual images\")\n",
    "\n",
    "f, a = plt.subplots(1, 10, figsize=(20, 20))\n",
    "for i in range(10):\n",
    "  img = data_x[i]\n",
    "  img = np.transpose(img, (1, 2, 0))\n",
    "  img = (img+1)/2\n",
    "  a[i].imshow(img)\n",
    "  a[i].axis(\"off\")\n",
    "\n",
    "f, a = plt.subplots(1, 10, figsize=(20, 20))\n",
    "for i in range(10):\n",
    "  img = data_y[i]\n",
    "  img = np.transpose(img, (1, 2, 0))\n",
    "  img = (img+1)/2\n",
    "  a[i].imshow(img)\n",
    "  a[i].axis(\"off\")\n",
    "\n",
    "plt.show()\n",
    "\n",
    "with torch.no_grad():\n",
    "  real_images_x = torch.Tensor(data_x).to(device)\n",
    "  real_images_y = torch.Tensor(data_y).to(device)\n",
    "\n",
    "  fake_images_y = G(real_images_x)\n",
    "  fake_images_x = H(real_images_y)\n",
    "\n",
    "print(\"Translated images\")\n",
    "\n",
    "f, a = plt.subplots(1, 10, figsize=(30, 30))\n",
    "for i in range(10):\n",
    "  img = fake_images_y[i].cpu()\n",
    "  img = np.transpose(img, (1, 2, 0))\n",
    "  img = (img+1)/2\n",
    "  a[i].imshow(img)\n",
    "  a[i].axis(\"off\")\n",
    "\n",
    "f, a = plt.subplots(1, 10, figsize=(30, 30))\n",
    "for i in range(10):\n",
    "  img = fake_images_x[i].cpu()\n",
    "  img = np.transpose(img, (1, 2, 0))\n",
    "  img = (img+1)/2\n",
    "  a[i].imshow(img)\n",
    "  a[i].axis(\"off\")\n",
    "\n",
    "plt.show()"
   ]
  }
 ],
 "metadata": {
  "accelerator": "GPU",
  "colab": {
   "collapsed_sections": [],
   "name": "Torch_CycleGAN.ipynb",
   "provenance": []
  },
  "kernelspec": {
   "display_name": "Python 3",
   "language": "python",
   "name": "python3"
  },
  "language_info": {
   "codemirror_mode": {
    "name": "ipython",
    "version": 3
   },
   "file_extension": ".py",
   "mimetype": "text/x-python",
   "name": "python",
   "nbconvert_exporter": "python",
   "pygments_lexer": "ipython3",
   "version": "3.6.5"
  }
 },
 "nbformat": 4,
 "nbformat_minor": 1
}
