{
 "cells": [
  {
   "cell_type": "markdown",
   "metadata": {},
   "source": [
    "### SNGAN with DenseBlocks and Self Modulation\n",
    "\n",
    "SpecNorm and MiniBatch Discrimination in the Discriminator, Self Modulation with BatchNorm in the Generator, **Hinge** Loss.\n",
    "Discriminator and Generators have dense blocks in them, check /models. The dense block outputs a fixed 160 (32x5) feature maps for now, will probably change it according to some growth rate later. Takes a longer to train than the ResNet version and the minibatch tensor size had to be increased."
   ]
  },
  {
   "cell_type": "code",
   "execution_count": null,
   "metadata": {
    "colab": {},
    "colab_type": "code",
    "id": "NWCGpgMlzDqm"
   },
   "outputs": [],
   "source": [
    "import torch\n",
    "import torchvision\n",
    "import torch.nn as nn\n",
    "import torch.nn.functional as F\n",
    "import torchvision.transforms as transforms\n",
    "import torch.optim as optim\n",
    "import numpy as np\n",
    "import matplotlib.pyplot as plt\n",
    "from models.building_blocks import DenseBlock, UpBlock, DownBlock, ModulatingNet\n",
    "from models.densenet import DenseNet_Generator, DenseNet_Discriminator"
   ]
  },
  {
   "cell_type": "code",
   "execution_count": null,
   "metadata": {
    "colab": {
     "base_uri": "https://localhost:8080/",
     "height": 35
    },
    "colab_type": "code",
    "id": "Fbn4i5-fzIZp",
    "outputId": "f7dc741f-d59f-4cd3-8ed5-82d35b523441"
   },
   "outputs": [],
   "source": [
    "batch_size_train = 64\n",
    "\n",
    "def get_indices(dataset,class_name):\n",
    "    indices =  []\n",
    "    for i in range(len(dataset.targets)):\n",
    "        if dataset.targets[i] == class_name:\n",
    "            indices.append(i)\n",
    "    return indices\n",
    "\n",
    "transform = transforms.Compose(\n",
    "    [transforms.ToTensor(),\n",
    "     transforms.Normalize((0.5, 0.5, 0.5), (0.5, 0.5, 0.5))])\n",
    "\n",
    "trainset = torchvision.datasets.CIFAR10(root='./data', train=True,\n",
    "                                        download=True, transform=transform)\n",
    "idx = get_indices(trainset, 4)\n",
    "\n",
    "#Use the first one if you only want to produce a particular class\n",
    "trainloader = torch.utils.data.DataLoader(trainset, batch_size=64, num_workers=2, sampler = torch.utils.data.sampler.SubsetRandomSampler(idx))\n",
    "#trainloader = torch.utils.data.DataLoader(trainset, batch_size=64, num_workers=2, shuffle = True)"
   ]
  },
  {
   "cell_type": "code",
   "execution_count": null,
   "metadata": {
    "colab": {
     "base_uri": "https://localhost:8080/",
     "height": 302
    },
    "colab_type": "code",
    "id": "R8cB2cr1zKzs",
    "outputId": "e2661ced-91d7-4b5a-e353-a9213a3d7100"
   },
   "outputs": [],
   "source": [
    "data_loader = iter(trainloader)\n",
    "(data, target) = next(data_loader)\n",
    "\n",
    "print(data.shape)\n",
    "print(data.max(), data.min())\n",
    "img = np.transpose(data[0], (1, 2, 0))\n",
    "plt.imshow((img+1)/2)\n",
    "plt.show()"
   ]
  },
  {
   "cell_type": "code",
   "execution_count": null,
   "metadata": {
    "colab": {},
    "colab_type": "code",
    "id": "D1gCPEjwzTei"
   },
   "outputs": [],
   "source": [
    "device = torch.device(\"cuda:0\" if torch.cuda.is_available() else \"cpu\")\n",
    "\n",
    "noise_dim = 128\n",
    "netG = DenseNet_Generator(image_size = (32,32), noise_dim = noise_dim).to(device)\n",
    "netD = DenseNet_Discriminator(image_size = (32,32), mbd = True).to(device)\n",
    "\n",
    "if torch.cuda.device_count() > 1:\n",
    "    netG = nn.DataParallel(netG, list(range(torch.cuda.device_count())))\n",
    "    netD = nn.DataParallel(netD, list(range(torch.cuda.device_count())))\n",
    "\n",
    "#Optional orthogonal initialization of weights, does not work with Spectral Normalization!#########\n",
    "for m in netG.modules():\n",
    "    if isinstance(m, (nn.Conv2d, nn.Linear, nn.ConvTranspose2d)):\n",
    "        nn.init.orthogonal_(m.weight)\n",
    "'''\n",
    "for m in netD.modules():\n",
    "    if isinstance(m, (nn.Conv2d, nn.Linear, nn.ConvTranspose2d)):\n",
    "        nn.init.orthogonal_(m.weight)\n",
    "'''\n",
    "\n",
    "#Two Timescale Update Rule\n",
    "optimizerD = optim.Adam(netD.parameters(), lr = 0.0002, betas = (0.5, 0.999))\n",
    "optimizerG = optim.Adam(netG.parameters(), lr = 0.0001, betas = (0.5, 0.999))"
   ]
  },
  {
   "cell_type": "code",
   "execution_count": null,
   "metadata": {
    "colab": {
     "base_uri": "https://localhost:8080/",
     "height": 1000
    },
    "colab_type": "code",
    "id": "xOyT0h6VzXw6",
    "outputId": "362ee887-6faa-42e2-9e7e-c785e0e2f5d4"
   },
   "outputs": [],
   "source": [
    "epochs = 500\n",
    "disc_steps = 1\n",
    "path = \"./saved_models/\"\n",
    "\n",
    "for epoch in range(epochs):\n",
    "    for i, (data, target) in enumerate(trainloader):\n",
    "\n",
    "        #Dealing with the discriminator################################\n",
    "        #Specify number of disc updates above##############\n",
    "        for s in range(disc_steps):\n",
    "            netD.zero_grad()\n",
    "        \n",
    "            real_images = data.to(device)\n",
    "            b_size = real_images.size(0)\n",
    "        \n",
    "            output = netD(real_images).view(-1)\n",
    "            errD_real = torch.mean(F.relu(1 - output))\n",
    "            errD_real.backward()\n",
    "            D_x = output.mean().item()\n",
    "\n",
    "            noise = torch.randn(b_size, noise_dim, device = device)\n",
    "            fake = netG(noise)\n",
    "\n",
    "            output = netD(fake.detach()).view(-1)\n",
    "            errD_fake = torch.mean(F.relu(1 + output))\n",
    "            errD_fake.backward()\n",
    "            D_G_z1 = output.mean().item()\n",
    "\n",
    "            errD = errD_fake + errD_real\n",
    "            optimizerD.step()\n",
    "            \n",
    "        #Dealing with the generator###################################\n",
    "        netG.zero_grad()\n",
    "\n",
    "        output = netD(fake).view(-1)\n",
    "        errG = -torch.mean(output)\n",
    "\n",
    "        D_G_z2 = output.mean().item()\n",
    "        errG.backward()\n",
    "        optimizerG.step()\n",
    "\n",
    "        if i%100 == 0:\n",
    "            print('[%d/%d][%d/%d]\\tLoss_D: %.4f\\tLoss_G: %.4f\\tD(x): %.4f\\tD(G(z)): %.4f / %.4f'\n",
    "                    % (epoch, epochs, i, len(trainloader),\n",
    "                    errD.item(), errG.item(), D_x, D_G_z1, D_G_z2))\n",
    "    \n",
    "    #if epoch%100 == 0:\n",
    "        #torch.save(netG.state_dict(), path + \"sngan_dense_cifar_G.pth\")\n",
    "        #torch.save(netD.state_dict(), path + \"sngan_dense_cifar_D.pth\")"
   ]
  },
  {
   "cell_type": "code",
   "execution_count": null,
   "metadata": {
    "colab": {
     "base_uri": "https://localhost:8080/",
     "height": 735
    },
    "colab_type": "code",
    "id": "ZmQtE5rUzmyE",
    "outputId": "d273cc21-b9d6-4316-8e06-ec9dbada0677"
   },
   "outputs": [],
   "source": [
    "f, a = plt.subplots(4, 8, figsize=(30, 8))\n",
    "for i in range(8):\n",
    "  noise = torch.randn(4, noise_dim, device = device)\n",
    "  with torch.no_grad():\n",
    "    fake = netG(noise)\n",
    "\n",
    "  for j in range(4):\n",
    "      img = fake[j].cpu()\n",
    "      img = np.transpose(img, (1, 2, 0))\n",
    "      img = (img+1)/2\n",
    "      a[j][i].imshow(img)\n",
    "      a[j][i].axis(\"off\")\n",
    "    \n",
    "plt.savefig(\"CIFDenseG.png\")\n",
    "plt.show()\n",
    "\n",
    "plt.imshow(img)\n",
    "plt.show()"
   ]
  }
 ],
 "metadata": {
  "accelerator": "GPU",
  "colab": {
   "collapsed_sections": [],
   "name": "SNGANDesnse_CIFAR.ipynb",
   "provenance": []
  },
  "kernelspec": {
   "display_name": "Python 3",
   "language": "python",
   "name": "python3"
  },
  "language_info": {
   "codemirror_mode": {
    "name": "ipython",
    "version": 3
   },
   "file_extension": ".py",
   "mimetype": "text/x-python",
   "name": "python",
   "nbconvert_exporter": "python",
   "pygments_lexer": "ipython3",
   "version": "3.6.5"
  }
 },
 "nbformat": 4,
 "nbformat_minor": 1
}
